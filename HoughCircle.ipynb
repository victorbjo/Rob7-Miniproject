{
 "cells": [
  {
   "cell_type": "code",
   "execution_count": 1,
   "id": "7a848f2f",
   "metadata": {},
   "outputs": [],
   "source": [
    "import cv2\n",
    "import numpy as np\n",
    "from matplotlib import pyplot as plt\n",
    "import Preprocessing\n",
    "from circle import circleDrawing, distance_list\n",
    "import SepFilter as sp\n",
    "import pandas as pd\n",
    "\n",
    "width = 320\n",
    "height = 240"
   ]
  },
  {
   "cell_type": "code",
   "execution_count": 2,
   "id": "45eb2faa",
   "metadata": {},
   "outputs": [],
   "source": [
    "img = cv2.imread('Coconuts\\coconut.png')\n",
    "img_gray = cv2.cvtColor(img, cv2.COLOR_BGR2GRAY)"
   ]
  },
  {
   "cell_type": "code",
   "execution_count": 3,
   "id": "fe3fdbc5",
   "metadata": {},
   "outputs": [],
   "source": [
    "\n",
    "# dim = (width, height)\n",
    "# new_img = cv2.resize(img, dim)\n",
    "#cv2.imshow('graycsale image',img)\n",
    "#plt.imshow(new_img, cmap = 'gray')"
   ]
  },
  {
   "cell_type": "code",
   "execution_count": 4,
   "id": "7054e297",
   "metadata": {},
   "outputs": [
    {
     "name": "stdout",
     "output_type": "stream",
     "text": [
      "Current Width:  539\n",
      "Current Height:  408\n",
      "320 242\n"
     ]
    }
   ],
   "source": [
    "img1 = Preprocessing.preprocessing(img)\n",
    "\n",
    "# plt.imshow(img1, cmap = 'gray')"
   ]
  },
  {
   "cell_type": "code",
   "execution_count": 5,
   "id": "dd6ad0d4",
   "metadata": {},
   "outputs": [],
   "source": [
    "# img2 = sp.sepFil(img1,)"
   ]
  },
  {
   "cell_type": "code",
   "execution_count": 6,
   "id": "93fd113a",
   "metadata": {},
   "outputs": [
    {
     "name": "stdout",
     "output_type": "stream",
     "text": [
      "(240, 320)\n"
     ]
    },
    {
     "data": {
      "text/plain": [
       "<matplotlib.image.AxesImage at 0x23feb4fcbb0>"
      ]
     },
     "execution_count": 6,
     "metadata": {},
     "output_type": "execute_result"
    },
    {
     "data": {
      "image/png": "[encoded data removed]",
      "text/plain": [
       "<Figure size 432x288 with 1 Axes>"
      ]
     },
     "metadata": {
      "needs_background": "light"
     },
     "output_type": "display_data"
    }
   ],
   "source": [
    "img_blank = np.zeros( img1.shape) \n",
    "print(img_blank.shape)\n",
    "a_test = circleDrawing(290, 100, 35, width, height)\n",
    "a_test = a_test + img_blank\n",
    "plt.imshow(a_test, cmap='gray')"
   ]
  },
  {
   "cell_type": "code",
   "execution_count": 8,
   "id": "a1e1d05f",
   "metadata": {},
   "outputs": [],
   "source": [
    "rr = 34\n",
    "x0 = 100\n",
    "y0 = 100\n",
    "dist = distance_list(height, width, x0, y0)\n",
    "\n",
    "for i in range(0, width):\n",
    "    for j in range(0, height):\n",
    "        if a_test[j, i]>0:\n",
    "            img_blank = img_blank + circleDrawing(  i, j, rr, width, height, dist)     "
   ]
  },
  {
   "cell_type": "code",
   "execution_count": null,
   "id": "331a42b8",
   "metadata": {},
   "outputs": [],
   "source": [
    "# window_i,j are inputs\n",
    "for i in range(window_i, min(window_i+rr, width)):\n",
    "\n",
    "    for j in range(window_j, min(window_j+rr, height)):\n",
    "\n",
    "        if a_test[j, i]>0:\n",
    "            img_blank = img_blank + circleDrawing(  i, j, rr, width, height, dist)     "
   ]
  },
  {
   "cell_type": "code",
   "execution_count": 9,
   "id": "1db9dec7",
   "metadata": {},
   "outputs": [
    {
     "data": {
      "text/plain": [
       "<matplotlib.image.AxesImage at 0x23feb72dd60>"
      ]
     },
     "execution_count": 9,
     "metadata": {},
     "output_type": "execute_result"
    },
    {
     "data": {
      "image/png": "[encoded data removed]",
      "text/plain": [
       "<Figure size 432x288 with 1 Axes>"
      ]
     },
     "metadata": {
      "needs_background": "light"
     },
     "output_type": "display_data"
    }
   ],
   "source": [
    "plt.imshow(img_blank,cmap='gray')"
   ]
  },
  {
   "cell_type": "code",
   "execution_count": 10,
   "id": "da9e670f",
   "metadata": {},
   "outputs": [
    {
     "data": {
      "text/plain": [
       "array([[  0.,   0.,   0.,  12.,   0.,   0.,   0.,   0.,   0.,   0.,   0.,\n",
       "          0.,   0.,   0.,   0.,   0.,   0.,   0.,   0.,   0.],\n",
       "       [  0.,   0.,   0.,  12.,   0.,  12.,  12.,   0.,   0.,   0.,   0.,\n",
       "          0.,   0.,   0.,   0.,   0.,   0.,   0.,   0.,   0.],\n",
       "       [  0.,   0.,  14.,  12.,  12.,  12.,   0.,   0.,   0.,   0.,   0.,\n",
       "          0.,   0.,   0.,   0.,   0.,   0.,   0.,   0.,   0.],\n",
       "       [  0.,  12.,  14.,  12.,  14.,  12.,   0.,   0.,   0.,   0.,   0.,\n",
       "          0.,   0.,   0.,   0.,  12.,   0.,   0.,   0.,   0.],\n",
       "       [ 12.,  16.,  16.,  16.,  16.,  12.,   0.,   0.,  12.,  12.,  12.,\n",
       "         13.,  11.,   0.,  12.,   0.,   0.,   0.,   0.,   0.],\n",
       "       [ 14.,  18.,  18.,  20.,  14.,   0.,  12.,  14.,  15.,  13.,  14.,\n",
       "         13.,  12.,  12.,   0.,   0.,   0.,   0.,   0.,   0.],\n",
       "       [ 18.,  22.,  24.,  18.,  14.,  14.,  16.,  18.,  16.,  16.,  16.,\n",
       "         15.,  12.,  11.,  11.,   0.,   0.,   0.,   0.,   0.],\n",
       "       [ 26.,  30.,  26.,  18.,  18.,  21.,  21.,  22.,  19.,  19.,  16.,\n",
       "         14.,  13.,  15.,  13.,  12.,  12.,  12.,  12.,  12.],\n",
       "       [ 39.,  38.,  28.,  24.,  28.,  29.,  27.,  26.,  21.,  21.,  19.,\n",
       "         20.,  18.,  16.,  14.,  14.,  14.,  12.,   0.,   0.],\n",
       "       [ 90.,  53.,  38.,  39.,  38.,  34.,  29.,  27.,  24.,  24.,  20.,\n",
       "         18.,  16.,  14.,  12.,   0.,   0.,   0.,  12.,  14.],\n",
       "       [154.,  91.,  70.,  56.,  47.,  37.,  32.,  28.,  22.,  18.,  14.,\n",
       "         12.,  12.,  12.,  14.,  16.,  18.,  14.,   0.,   0.],\n",
       "       [ 72.,  68.,  86.,  66.,  52.,  36.,  28.,  24.,  20.,  20.,  20.,\n",
       "         20.,  20.,  16.,  12.,   0.,   0.,   0.,  12.,  16.],\n",
       "       [154.,  91.,  70.,  56.,  47.,  37.,  32.,  28.,  22.,  18.,  14.,\n",
       "         12.,  12.,  12.,  14.,  16.,  18.,  14.,   0.,   0.],\n",
       "       [ 90.,  53.,  38.,  39.,  38.,  34.,  29.,  27.,  24.,  24.,  20.,\n",
       "         18.,  16.,  14.,  12.,   0.,   0.,   0.,  12.,  14.],\n",
       "       [ 39.,  38.,  28.,  24.,  28.,  29.,  27.,  26.,  21.,  21.,  19.,\n",
       "         20.,  18.,  16.,  14.,  14.,  14.,  12.,   0.,   0.],\n",
       "       [ 26.,  30.,  26.,  18.,  18.,  21.,  21.,  22.,  19.,  19.,  16.,\n",
       "         14.,  13.,  15.,  13.,  12.,  12.,  12.,  12.,  12.],\n",
       "       [ 18.,  22.,  24.,  18.,  14.,  14.,  16.,  18.,  16.,  16.,  16.,\n",
       "         15.,  12.,  11.,  11.,   0.,   0.,   0.,   0.,   0.],\n",
       "       [ 14.,  18.,  18.,  20.,  14.,   0.,  12.,  14.,  15.,  13.,  14.,\n",
       "         13.,  12.,  12.,   0.,   0.,   0.,   0.,   0.,   0.],\n",
       "       [ 12.,  16.,  16.,  16.,  16.,  12.,   0.,   0.,  12.,  12.,  12.,\n",
       "         13.,  11.,   0.,  12.,   0.,   0.,   0.,   0.,   0.],\n",
       "       [  0.,  12.,  14.,  12.,  14.,  12.,   0.,   0.,   0.,   0.,   0.,\n",
       "          0.,   0.,   0.,   0.,  12.,   0.,   0.,   0.,   0.],\n",
       "       [  0.,   0.,  14.,  12.,  12.,  12.,   0.,   0.,   0.,   0.,   0.,\n",
       "          0.,   0.,   0.,   0.,   0.,   0.,   0.,   0.,   0.]])"
      ]
     },
     "execution_count": 10,
     "metadata": {},
     "output_type": "execute_result"
    },
    {
     "data": {
      "image/png": "[encoded data removed]",
      "text/plain": [
       "<Figure size 432x288 with 1 Axes>"
      ]
     },
     "metadata": {
      "needs_background": "light"
     },
     "output_type": "display_data"
    }
   ],
   "source": [
    "pd_img = pd.DataFrame(img_blank)\n",
    "new_img = pd_img[pd_img>10].fillna(0)\n",
    "new_img = pd.DataFrame.to_numpy(new_img)\n",
    "plt.imshow(new_img, cmap='gray')\n",
    "# cv2.imwrite(\"circled.png\",new_img)\n",
    "new_img[89:110,290:310]"
   ]
  },
  {
   "cell_type": "code",
   "execution_count": null,
   "id": "3a41b899",
   "metadata": {},
   "outputs": [],
   "source": []
  },
  {
   "cell_type": "code",
   "execution_count": null,
   "id": "ba1718fc",
   "metadata": {},
   "outputs": [],
   "source": []
  },
  {
   "cell_type": "code",
   "execution_count": null,
   "id": "73c3b9f4",
   "metadata": {},
   "outputs": [],
   "source": []
  }
 ],
 "metadata": {
  "kernelspec": {
   "display_name": "Python 3.9.12 ('base')",
   "language": "python",
   "name": "python3"
  },
  "language_info": {
   "codemirror_mode": {
    "name": "ipython",
    "version": 3
   },
   "file_extension": ".py",
   "mimetype": "text/x-python",
   "name": "python",
   "nbconvert_exporter": "python",
   "pygments_lexer": "ipython3",
   "version": "3.9.12"
  },
  "vscode": {
   "interpreter": {
    "hash": "ad2bdc8ecc057115af97d19610ffacc2b4e99fae6737bb82f5d7fb13d2f2c186"
   }
  }
 },
 "nbformat": 4,
 "nbformat_minor": 5
}
