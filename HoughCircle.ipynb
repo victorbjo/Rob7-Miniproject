{
 "cells": [
  {
   "cell_type": "code",
   "execution_count": 1,
   "id": "7a848f2f",
   "metadata": {},
   "outputs": [],
   "source": [
    "import cv2\n",
    "import numpy as np\n",
    "from matplotlib import pyplot as plt\n",
    "import Preprocessing\n",
    "from circle import circleDrawing\n",
    "import SepFilter as sp\n",
    "import pandas as pd\n",
    "\n",
    "width = 320\n",
    "height = 240"
   ]
  },
  {
   "cell_type": "code",
   "execution_count": 2,
   "id": "45eb2faa",
   "metadata": {},
   "outputs": [],
   "source": [
    "img = cv2.imread('Coconuts\\coconut.png')\n",
    "img_gray = cv2.cvtColor(img, cv2.COLOR_BGR2GRAY)"
   ]
  },
  {
   "cell_type": "code",
   "execution_count": 3,
   "id": "fe3fdbc5",
   "metadata": {},
   "outputs": [],
   "source": [
    "\n",
    "# dim = (width, height)\n",
    "# new_img = cv2.resize(img, dim)\n",
    "#cv2.imshow('graycsale image',img)\n",
    "#plt.imshow(new_img, cmap = 'gray')"
   ]
  },
  {
   "cell_type": "code",
   "execution_count": 4,
   "id": "7054e297",
   "metadata": {},
   "outputs": [
    {
     "name": "stdout",
     "output_type": "stream",
     "text": [
      "Current Width:  539\n",
      "Current Height:  408\n",
      "320 242\n"
     ]
    }
   ],
   "source": [
    "img1 = Preprocessing.preprocessing(img)\n",
    "# plt.imshow(img1, cmap = 'gray')"
   ]
  },
  {
   "cell_type": "code",
   "execution_count": 5,
   "id": "dd6ad0d4",
   "metadata": {},
   "outputs": [],
   "source": [
    "# img2 = sp.sepFil(img1,)"
   ]
  },
  {
   "cell_type": "code",
   "execution_count": 6,
   "id": "ddf931ad",
   "metadata": {},
   "outputs": [],
   "source": [
    "# R = 50\n",
    "# bordersize = R\n",
    "# img_bordered = cv2.copyMakeBorder(\n",
    "#     img1,\n",
    "#     top=bordersize,\n",
    "#     bottom=bordersize,\n",
    "#     left=bordersize,\n",
    "#     right=bordersize,\n",
    "#     borderType=cv2.BORDER_CONSTANT,\n",
    "#     value=[0]\n",
    "# )\n"
   ]
  },
  {
   "cell_type": "code",
   "execution_count": 7,
   "id": "d6b17b49",
   "metadata": {},
   "outputs": [],
   "source": [
    "\n",
    "# fig, ax = plt.subplots(1,2)\n",
    "# ax[0].imshow(img1, cmap = 'gray')\n",
    "# ax[0].set_title(\"original\")\n",
    "# ax[1].imshow(img_bordered, cmap = 'gray')\n",
    "# ax[1].set_title(\"after padding\")"
   ]
  },
  {
   "cell_type": "code",
   "execution_count": 8,
   "id": "f3b07b96",
   "metadata": {},
   "outputs": [],
   "source": [
    "# cv2.imshow('picture prepocessed',border)\n",
    "# cv2.waitKey()"
   ]
  },
  {
   "cell_type": "code",
   "execution_count": 9,
   "id": "45a84e05",
   "metadata": {},
   "outputs": [
    {
     "data": {
      "text/plain": [
       "(240, 320)"
      ]
     },
     "execution_count": 9,
     "metadata": {},
     "output_type": "execute_result"
    }
   ],
   "source": [
    "#img_blank = np.zeros( img_bordered.shape) \n",
    "#img_blank =  cv2.cvtColor(img_blank, cv2.COLOR_GRAY2BGR)\n",
    "#[2*R+height, 2*R+width]\n",
    "#plt.imshow( img_blank, cmap = 'gray')\n",
    "img_blank = np.zeros( img1.shape) \n",
    "img_blank.shape"
   ]
  },
  {
   "cell_type": "code",
   "execution_count": 10,
   "id": "09e08d0b",
   "metadata": {},
   "outputs": [],
   "source": [
    "# plt.imshow(circleDrawing(  10, 10, 10, width, height), cmap='gray')\n",
    "#plt.imshow(img_blank, cmap='gray')\n",
    "def distance_list(height_size, width_size, pos_x, pos_y):\n",
    "    height_list = np.arange(height_size)\n",
    "    width_list = np.arange(width_size)\n",
    "\n",
    "    # distance calculation of all matrix elements to the center of the circle\n",
    "    y_diff_list = np.power(height_list - pos_y, 2)\n",
    "    x_diff_list = np.power(width_list - pos_x, 2)  \n",
    "    return x_diff_list, y_diff_list"
   ]
  },
  {
   "cell_type": "code",
   "execution_count": 11,
   "id": "93fd113a",
   "metadata": {},
   "outputs": [
    {
     "data": {
      "text/plain": [
       "(240, 320)"
      ]
     },
     "execution_count": 11,
     "metadata": {},
     "output_type": "execute_result"
    },
    {
     "data": {
      "image/png": "[encoded data removed]",
      "text/plain": [
       "<Figure size 432x288 with 1 Axes>"
      ]
     },
     "metadata": {
      "needs_background": "light"
     },
     "output_type": "display_data"
    }
   ],
   "source": [
    "a_test = circleDrawing(50,100,35,width,height)\n",
    "a_test = a_test + img_blank\n",
    "plt.imshow(a_test, cmap='gray')\n",
    "a_test.shape"
   ]
  },
  {
   "cell_type": "code",
   "execution_count": 12,
   "id": "a1e1d05f",
   "metadata": {},
   "outputs": [],
   "source": [
    "rr = 34\n",
    "for i in range(0, height):\n",
    "    for j in range(0, width):\n",
    "        if a_test[i,j]>0:\n",
    "            img_blank = img_blank + circleDrawing(  i, j, rr, width, height)     "
   ]
  },
  {
   "cell_type": "code",
   "execution_count": 13,
   "id": "4c849318",
   "metadata": {},
   "outputs": [],
   "source": [
    "# ********** with padding\n",
    "#  rr = 23\n",
    "# for i in range(R, R+height):\n",
    "#     for j in range(R, R+width):\n",
    "#         if a_test[i,j]>0:\n",
    "#             img_blank = img_blank + circleDrawing(  i, j, rr, width, height)            "
   ]
  },
  {
   "cell_type": "code",
   "execution_count": 14,
   "id": "1db9dec7",
   "metadata": {},
   "outputs": [
    {
     "data": {
      "text/plain": [
       "<matplotlib.image.AxesImage at 0x270195a3ee0>"
      ]
     },
     "execution_count": 14,
     "metadata": {},
     "output_type": "execute_result"
    },
    {
     "data": {
      "image/png": "[encoded data removed]",
      "text/plain": [
       "<Figure size 432x288 with 1 Axes>"
      ]
     },
     "metadata": {
      "needs_background": "light"
     },
     "output_type": "display_data"
    }
   ],
   "source": [
    "plt.imshow(img_blank,cmap='gray')"
   ]
  },
  {
   "cell_type": "code",
   "execution_count": 15,
   "id": "977d65d6",
   "metadata": {},
   "outputs": [],
   "source": [
    "# print(img_blank[50:100,50:100])\n"
   ]
  },
  {
   "cell_type": "code",
   "execution_count": 16,
   "id": "a468796d",
   "metadata": {},
   "outputs": [],
   "source": [
    "pd_img = pd.DataFrame(img_blank)"
   ]
  },
  {
   "cell_type": "code",
   "execution_count": 17,
   "id": "da9e670f",
   "metadata": {},
   "outputs": [
    {
     "data": {
      "text/plain": [
       "array([[ 0.,  0.,  0.,  0.,  0., 11.,  0.,  0.,  0.,  0.],\n",
       "       [ 0.,  0.,  0.,  0.,  0., 11., 12., 11., 12.,  0.],\n",
       "       [ 0.,  0.,  0.,  0.,  0., 11., 13., 12., 12., 11.],\n",
       "       [ 0.,  0.,  0.,  0.,  0., 12., 15., 16., 14., 14.],\n",
       "       [ 0.,  0.,  0.,  0.,  0., 11., 14., 18., 16., 16.],\n",
       "       [11., 11., 11., 12., 11., 12., 15., 19., 21., 19.],\n",
       "       [ 0., 12., 13., 15., 14., 15., 16., 20., 25., 26.],\n",
       "       [ 0., 11., 12., 16., 18., 19., 20., 22., 29., 35.],\n",
       "       [ 0., 12., 12., 14., 16., 21., 25., 29., 36., 53.],\n",
       "       [ 0.,  0., 11., 14., 16., 19., 26., 35., 53., 89.],\n",
       "       [ 0.,  0.,  0., 12., 14., 18., 26., 36., 66., 93.],\n",
       "       [ 0.,  0., 11., 14., 16., 19., 26., 35., 53., 89.],\n",
       "       [ 0., 12., 12., 14., 16., 21., 25., 29., 36., 53.],\n",
       "       [ 0., 11., 12., 16., 18., 19., 20., 22., 29., 35.],\n",
       "       [ 0., 12., 13., 15., 14., 15., 16., 20., 25., 26.],\n",
       "       [11., 11., 11., 12., 11., 12., 15., 19., 21., 19.],\n",
       "       [ 0.,  0.,  0.,  0.,  0., 11., 14., 18., 16., 16.],\n",
       "       [ 0.,  0.,  0.,  0.,  0., 12., 15., 16., 14., 14.],\n",
       "       [ 0.,  0.,  0.,  0.,  0., 11., 13., 12., 12., 11.],\n",
       "       [ 0.,  0.,  0.,  0.,  0., 11., 12., 11., 12.,  0.]])"
      ]
     },
     "execution_count": 17,
     "metadata": {},
     "output_type": "execute_result"
    },
    {
     "data": {
      "image/png": "[encoded data removed]",
      "text/plain": [
       "<Figure size 432x288 with 1 Axes>"
      ]
     },
     "metadata": {
      "needs_background": "light"
     },
     "output_type": "display_data"
    }
   ],
   "source": [
    "new_img = pd_img[pd_img>10].fillna(0)\n",
    "new_img = pd.DataFrame.to_numpy(new_img)\n",
    "plt.imshow(new_img, cmap='gray')\n",
    "# cv2.imwrite(\"circled.png\",new_img)\n",
    "new_img[40:60,90:100]"
   ]
  },
  {
   "cell_type": "code",
   "execution_count": null,
   "id": "3a41b899",
   "metadata": {},
   "outputs": [],
   "source": []
  },
  {
   "cell_type": "code",
   "execution_count": null,
   "id": "ba1718fc",
   "metadata": {},
   "outputs": [],
   "source": []
  },
  {
   "cell_type": "code",
   "execution_count": null,
   "id": "73c3b9f4",
   "metadata": {},
   "outputs": [],
   "source": []
  }
 ],
 "metadata": {
  "kernelspec": {
   "display_name": "Python 3.9.12 ('base')",
   "language": "python",
   "name": "python3"
  },
  "language_info": {
   "codemirror_mode": {
    "name": "ipython",
    "version": 3
   },
   "file_extension": ".py",
   "mimetype": "text/x-python",
   "name": "python",
   "nbconvert_exporter": "python",
   "pygments_lexer": "ipython3",
   "version": "3.9.12"
  },
  "vscode": {
   "interpreter": {
    "hash": "ad2bdc8ecc057115af97d19610ffacc2b4e99fae6737bb82f5d7fb13d2f2c186"
   }
  }
 },
 "nbformat": 4,
 "nbformat_minor": 5
}
