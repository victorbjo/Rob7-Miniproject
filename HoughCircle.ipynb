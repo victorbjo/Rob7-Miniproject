{
 "cells": [
  {
   "cell_type": "code",
   "execution_count": 1,
   "id": "7a848f2f",
   "metadata": {},
   "outputs": [
    {
     "ename": "SyntaxError",
     "evalue": "non-default argument follows default argument (circle.py, line 8)",
     "output_type": "error",
     "traceback": [
      "Traceback \u001b[1;36m(most recent call last)\u001b[0m:\n",
      "  File \u001b[0;32mc:\\ProgramData\\Anaconda3\\lib\\site-packages\\IPython\\core\\interactiveshell.py:3398\u001b[0m in \u001b[0;35mrun_code\u001b[0m\n    exec(code_obj, self.user_global_ns, self.user_ns)\n",
      "\u001b[1;36m  Input \u001b[1;32mIn [1]\u001b[1;36m in \u001b[1;35m<cell line: 5>\u001b[1;36m\u001b[0m\n\u001b[1;33m    from circle import circleDrawing\u001b[0m\n",
      "\u001b[1;36m  File \u001b[1;32mc:\\Users\\Mahed\\Documents\\GitHub\\Rob7-Miniproject\\circle.py:8\u001b[1;36m\u001b[0m\n\u001b[1;33m    def circleDrawing(width = 320, height = 240, x0, y0, r):\u001b[0m\n\u001b[1;37m                                                     ^\u001b[0m\n\u001b[1;31mSyntaxError\u001b[0m\u001b[1;31m:\u001b[0m non-default argument follows default argument\n"
     ]
    }
   ],
   "source": [
    "import cv2\n",
    "import numpy as np\n",
    "from matplotlib import pyplot as plt\n",
    "import Preprocessing\n",
    "from circle import circleDrawing"
   ]
  },
  {
   "cell_type": "code",
   "execution_count": 22,
   "id": "45eb2faa",
   "metadata": {},
   "outputs": [],
   "source": [
    "img = cv2.imread('Coconuts\\coconut.png')\n",
    "img_gray = cv2.cvtColor(img, cv2.COLOR_BGR2GRAY)"
   ]
  },
  {
   "cell_type": "code",
   "execution_count": 23,
   "id": "fe3fdbc5",
   "metadata": {},
   "outputs": [],
   "source": [
    "width = 320\n",
    "height = 240\n",
    "# dim = (width, height)\n",
    "# new_img = cv2.resize(img, dim)\n",
    "#cv2.imshow('graycsale image',img)\n",
    "#plt.imshow(new_img, cmap = 'gray')"
   ]
  },
  {
   "cell_type": "code",
   "execution_count": 24,
   "id": "7054e297",
   "metadata": {},
   "outputs": [],
   "source": [
    "img1 = Preprocessing.preprocessing(img)"
   ]
  },
  {
   "cell_type": "code",
   "execution_count": 25,
   "id": "f4756989",
   "metadata": {},
   "outputs": [
    {
     "data": {
      "text/plain": [
       "<matplotlib.image.AxesImage at 0x2975566be50>"
      ]
     },
     "execution_count": 25,
     "metadata": {},
     "output_type": "execute_result"
    },
    {
     "data": {
      "image/png": "[encoded data removed]",
      "text/plain": [
       "<Figure size 432x288 with 1 Axes>"
      ]
     },
     "metadata": {
      "needs_background": "light"
     },
     "output_type": "display_data"
    }
   ],
   "source": [
    "plt.imshow(img1, cmap = 'gray')"
   ]
  },
  {
   "cell_type": "code",
   "execution_count": 26,
   "id": "ddf931ad",
   "metadata": {},
   "outputs": [],
   "source": [
    "R = 50\n",
    "bordersize = R\n",
    "img_bordered = cv2.copyMakeBorder(\n",
    "    img1,\n",
    "    top=bordersize,\n",
    "    bottom=bordersize,\n",
    "    left=bordersize,\n",
    "    right=bordersize,\n",
    "    borderType=cv2.BORDER_CONSTANT,\n",
    "    value=[0]\n",
    ")\n"
   ]
  },
  {
   "cell_type": "code",
   "execution_count": 27,
   "id": "d6b17b49",
   "metadata": {},
   "outputs": [
    {
     "data": {
      "text/plain": [
       "Text(0.5, 1.0, 'after padding')"
      ]
     },
     "execution_count": 27,
     "metadata": {},
     "output_type": "execute_result"
    },
    {
     "data": {
      "image/png": "[encoded data removed]",
      "text/plain": [
       "<Figure size 432x288 with 2 Axes>"
      ]
     },
     "metadata": {
      "needs_background": "light"
     },
     "output_type": "display_data"
    }
   ],
   "source": [
    "\n",
    "fig, ax = plt.subplots(1,2)\n",
    "ax[0].imshow(img1, cmap = 'gray')\n",
    "ax[0].set_title(\"original\")\n",
    "ax[1].imshow(img_bordered, cmap = 'gray')\n",
    "ax[1].set_title(\"after padding\")"
   ]
  },
  {
   "cell_type": "code",
   "execution_count": 28,
   "id": "f3b07b96",
   "metadata": {},
   "outputs": [],
   "source": [
    "# cv2.imshow('picture prepocessed',border)\n",
    "# cv2.waitKey()"
   ]
  },
  {
   "cell_type": "code",
   "execution_count": 33,
   "id": "45a84e05",
   "metadata": {},
   "outputs": [
    {
     "data": {
      "text/plain": [
       "<matplotlib.image.AxesImage at 0x297558c7a60>"
      ]
     },
     "execution_count": 33,
     "metadata": {},
     "output_type": "execute_result"
    },
    {
     "data": {
      "image/png": "[encoded data removed]",
      "text/plain": [
       "<Figure size 432x288 with 1 Axes>"
      ]
     },
     "metadata": {
      "needs_background": "light"
     },
     "output_type": "display_data"
    }
   ],
   "source": [
    "img_blank = np.zeros( img_bordered.shape) \n",
    "#img_blank =  cv2.cvtColor(img_blank, cv2.COLOR_GRAY2BGR)\n",
    "#[2*R+height, 2*R+width]\n",
    "#plt.imshow( img_blank, cmap = 'gray')"
   ]
  },
  {
   "cell_type": "code",
   "execution_count": 30,
   "id": "4c849318",
   "metadata": {},
   "outputs": [
    {
     "ename": "SyntaxError",
     "evalue": "invalid syntax (3905299342.py, line 1)",
     "output_type": "error",
     "traceback": [
      "\u001b[1;36m  Input \u001b[1;32mIn [30]\u001b[1;36m\u001b[0m\n\u001b[1;33m    for i in range(R:R+height):\u001b[0m\n\u001b[1;37m                    ^\u001b[0m\n\u001b[1;31mSyntaxError\u001b[0m\u001b[1;31m:\u001b[0m invalid syntax\n"
     ]
    }
   ],
   "source": [
    "for i in range(R:R+height):\n",
    "    for j in range(R:R+width):\n",
    "        if img_bordered[i,j]>200:\n",
    "            img_blank = img_blank + circleDrawing(  i, j, R, width, height)            "
   ]
  },
  {
   "cell_type": "code",
   "execution_count": null,
   "id": "1db9dec7",
   "metadata": {},
   "outputs": [],
   "source": []
  },
  {
   "cell_type": "code",
   "execution_count": null,
   "id": "da9e670f",
   "metadata": {},
   "outputs": [],
   "source": []
  },
  {
   "cell_type": "code",
   "execution_count": null,
   "id": "0617f7c8",
   "metadata": {},
   "outputs": [],
   "source": []
  }
 ],
 "metadata": {
  "kernelspec": {
   "display_name": "Python 3.9.12 ('base')",
   "language": "python",
   "name": "python3"
  },
  "language_info": {
   "codemirror_mode": {
    "name": "ipython",
    "version": 3
   },
   "file_extension": ".py",
   "mimetype": "text/x-python",
   "name": "python",
   "nbconvert_exporter": "python",
   "pygments_lexer": "ipython3",
   "version": "3.9.12"
  },
  "vscode": {
   "interpreter": {
    "hash": "ad2bdc8ecc057115af97d19610ffacc2b4e99fae6737bb82f5d7fb13d2f2c186"
   }
  }
 },
 "nbformat": 4,
 "nbformat_minor": 5
}
