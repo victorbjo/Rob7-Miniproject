{
 "cells": [
  {
   "cell_type": "code",
   "execution_count": 1,
   "id": "7a848f2f",
   "metadata": {},
   "outputs": [],
   "source": [
    "import cv2\n",
    "import numpy as np\n",
    "from matplotlib import pyplot as plt\n",
    "import Preprocessing\n",
    "from circle import circleDrawing, distance_list\n",
    "import SepFilter as sp\n",
    "import pandas as pd\n",
    "\n",
    "width = 320\n",
    "height = 240"
   ]
  },
  {
   "cell_type": "code",
   "execution_count": 2,
   "id": "45eb2faa",
   "metadata": {},
   "outputs": [],
   "source": [
    "img = cv2.imread('Coconuts\\coconut.png')\n",
    "img_gray = cv2.cvtColor(img, cv2.COLOR_BGR2GRAY)"
   ]
  },
  {
   "cell_type": "code",
   "execution_count": 3,
   "id": "fe3fdbc5",
   "metadata": {},
   "outputs": [],
   "source": [
    "\n",
    "# dim = (width, height)\n",
    "# new_img = cv2.resize(img, dim)\n",
    "#cv2.imshow('graycsale image',img)\n",
    "#plt.imshow(new_img, cmap = 'gray')"
   ]
  },
  {
   "cell_type": "code",
   "execution_count": 4,
   "id": "7054e297",
   "metadata": {},
   "outputs": [
    {
     "name": "stdout",
     "output_type": "stream",
     "text": [
      "Current Width:  539\n",
      "Current Height:  408\n",
      "320 242\n"
     ]
    }
   ],
   "source": [
    "img1 = Preprocessing.preprocessing(img)\n",
    "\n",
    "# plt.imshow(img1, cmap = 'gray')"
   ]
  },
  {
   "cell_type": "code",
   "execution_count": 5,
   "id": "dd6ad0d4",
   "metadata": {},
   "outputs": [],
   "source": [
    "# img2 = sp.sepFil(img1,)"
   ]
  },
  {
   "cell_type": "code",
   "execution_count": 6,
   "id": "93fd113a",
   "metadata": {},
   "outputs": [
    {
     "name": "stdout",
     "output_type": "stream",
     "text": [
      "(240, 320)\n"
     ]
    },
    {
     "data": {
      "text/plain": [
       "<matplotlib.image.AxesImage at 0x2746ff8f160>"
      ]
     },
     "execution_count": 6,
     "metadata": {},
     "output_type": "execute_result"
    },
    {
     "data": {
      "image/png": "[encoded data removed]",
      "text/plain": [
       "<Figure size 432x288 with 1 Axes>"
      ]
     },
     "metadata": {
      "needs_background": "light"
     },
     "output_type": "display_data"
    }
   ],
   "source": [
    "img_blank = np.zeros( img1.shape) \n",
    "print(img_blank.shape)\n",
    "a_test = circleDrawing(290, 100, 35, width, height)\n",
    "a_test = a_test + img_blank\n",
    "plt.imshow(a_test, cmap='gray')"
   ]
  },
  {
   "cell_type": "code",
   "execution_count": 36,
   "id": "a1e1d05f",
   "metadata": {},
   "outputs": [],
   "source": [
    "rr = 30\n",
    "x0 = 100\n",
    "y0 = 15\n",
    "dist = distance_list(height, width, x0, y0)\n",
    "\n",
    "for i in range(0, width):\n",
    "    for j in range(0, height):\n",
    "        if a_test[j, i]>0:\n",
    "            img_blank = img_blank + circleDrawing(  i, j, rr, width, height)     "
   ]
  },
  {
   "cell_type": "code",
   "execution_count": 37,
   "id": "331a42b8",
   "metadata": {},
   "outputs": [],
   "source": [
    "# # window_i,j are inputs (top left of the window)\n",
    "# for i in range(window_i, min(window_i+rr, width)):\n",
    "\n",
    "#     for j in range(window_j, min(window_j+rr, height)):\n",
    "\n",
    "#         if a_test[j, i]>0:\n",
    "#             img_blank = img_blank + circleDrawing(  i, j, rr, width, height, dist)     "
   ]
  },
  {
   "cell_type": "code",
   "execution_count": 38,
   "id": "1db9dec7",
   "metadata": {},
   "outputs": [
    {
     "data": {
      "text/plain": [
       "<matplotlib.image.AxesImage at 0x2747143c130>"
      ]
     },
     "execution_count": 38,
     "metadata": {},
     "output_type": "execute_result"
    },
    {
     "data": {
      "image/png": "[encoded data removed]",
      "text/plain": [
       "<Figure size 432x288 with 1 Axes>"
      ]
     },
     "metadata": {
      "needs_background": "light"
     },
     "output_type": "display_data"
    }
   ],
   "source": [
    "plt.imshow(a_test,cmap='gray')"
   ]
  },
  {
   "cell_type": "code",
   "execution_count": 39,
   "id": "da9e670f",
   "metadata": {},
   "outputs": [
    {
     "data": {
      "text/plain": [
       "array([[ 20.,  15.,  16.,  15.,  14.,  13.,  13.,  14.,  12.,  11.,  11.,\n",
       "         12.,  13.,  14.,  13.,  11.,  11.,  11.,  12.,   0.],\n",
       "       [ 21.,  18.,  17.,  16.,  15.,  16.,  16.,  14.,  13.,  13.,  13.,\n",
       "         15.,  13.,  13.,  13.,  11.,  11.,  12.,   0.,   0.],\n",
       "       [ 26.,  23.,  19.,  18.,  19.,  18.,  15.,  15.,  14.,  15.,  15.,\n",
       "         15.,  14.,  14.,  13.,  14.,  15.,  15.,  13.,  16.],\n",
       "       [ 29.,  28.,  22.,  22.,  21.,  17.,  17.,  17.,  18.,  16.,  16.,\n",
       "         16.,  17.,  16.,  16.,  18.,  17.,  16.,  16.,  16.],\n",
       "       [ 34.,  38.,  32.,  25.,  23.,  21.,  20.,  18.,  20.,  19.,  19.,\n",
       "         21.,  19.,  18.,  20.,  19.,  16.,  15.,  15.,  13.],\n",
       "       [ 52.,  53.,  44.,  32.,  24.,  20.,  20.,  22.,  23.,  21.,  23.,\n",
       "         22.,  21.,  20.,  18.,  16.,  15.,  16.,  16.,  15.],\n",
       "       [ 62.,  66.,  65.,  48.,  28.,  25.,  25.,  27.,  25.,  25.,  23.,\n",
       "         22.,  22.,  20.,  21.,  21.,  19.,  18.,  16.,  16.],\n",
       "       [ 41.,  36.,  44.,  54.,  44.,  36.,  35.,  33.,  30.,  28.,  25.,\n",
       "         25.,  23.,  23.,  21.,  19.,  18.,  17.,  17.,  17.],\n",
       "       [ 69.,  47.,  30.,  35.,  53.,  53.,  44.,  38.,  34.,  31.,  29.,\n",
       "         28.,  27.,  26.,  22.,  20.,  20.,  18.,  18.,  17.],\n",
       "       [113.,  81.,  51.,  41.,  49.,  55.,  46.,  41.,  36.,  35.,  32.,\n",
       "         28.,  24.,  20.,  20.,  20.,  20.,  19.,  18.,  17.],\n",
       "       [ 89.,  70.,  73.,  64.,  52.,  47.,  45.,  44.,  38.,  35.,  31.,\n",
       "         28.,  25.,  23.,  22.,  20.,  20.,  17.,  16.,  16.],\n",
       "       [ 38.,  46.,  74.,  74.,  60.,  44.,  44.,  44.,  40.,  36.,  30.,\n",
       "         30.,  28.,  26.,  24.,  20.,  18.,  16.,  16.,  18.],\n",
       "       [ 89.,  70.,  73.,  64.,  52.,  47.,  45.,  44.,  38.,  35.,  31.,\n",
       "         28.,  25.,  23.,  22.,  20.,  20.,  17.,  16.,  16.],\n",
       "       [113.,  81.,  51.,  41.,  49.,  55.,  46.,  41.,  36.,  35.,  32.,\n",
       "         28.,  24.,  20.,  20.,  20.,  20.,  19.,  18.,  17.],\n",
       "       [ 69.,  47.,  30.,  35.,  53.,  53.,  44.,  38.,  34.,  31.,  29.,\n",
       "         28.,  27.,  26.,  22.,  20.,  20.,  18.,  18.,  17.],\n",
       "       [ 41.,  36.,  44.,  54.,  44.,  36.,  35.,  33.,  30.,  28.,  25.,\n",
       "         25.,  23.,  23.,  21.,  19.,  18.,  17.,  17.,  17.],\n",
       "       [ 62.,  66.,  65.,  48.,  28.,  25.,  25.,  27.,  25.,  25.,  23.,\n",
       "         22.,  22.,  20.,  21.,  21.,  19.,  18.,  16.,  16.],\n",
       "       [ 52.,  53.,  44.,  32.,  24.,  20.,  20.,  22.,  23.,  21.,  23.,\n",
       "         22.,  21.,  20.,  18.,  16.,  15.,  16.,  16.,  15.],\n",
       "       [ 34.,  38.,  32.,  25.,  23.,  21.,  20.,  18.,  20.,  19.,  19.,\n",
       "         21.,  19.,  18.,  20.,  19.,  16.,  15.,  15.,  13.],\n",
       "       [ 29.,  28.,  22.,  22.,  21.,  17.,  17.,  17.,  18.,  16.,  16.,\n",
       "         16.,  17.,  16.,  16.,  18.,  17.,  16.,  16.,  16.],\n",
       "       [ 26.,  23.,  19.,  18.,  19.,  18.,  15.,  15.,  14.,  15.,  15.,\n",
       "         15.,  14.,  14.,  13.,  14.,  15.,  15.,  13.,  16.]])"
      ]
     },
     "execution_count": 39,
     "metadata": {},
     "output_type": "execute_result"
    },
    {
     "data": {
      "image/png": "[encoded data removed]",
      "text/plain": [
       "<Figure size 432x288 with 1 Axes>"
      ]
     },
     "metadata": {
      "needs_background": "light"
     },
     "output_type": "display_data"
    }
   ],
   "source": [
    "pd_img = pd.DataFrame(img_blank)\n",
    "new_img = pd_img[pd_img>10].fillna(0)\n",
    "new_img = pd.DataFrame.to_numpy(new_img)\n",
    "plt.imshow(new_img, cmap='gray')\n",
    "# cv2.imwrite(\"circled.png\",new_img)\n",
    "new_img[89:110,290:310]\n"
   ]
  },
  {
   "cell_type": "code",
   "execution_count": 40,
   "id": "3a41b899",
   "metadata": {},
   "outputs": [],
   "source": [
    "def largest_indices(ary, n):\n",
    "    \"\"\"Returns the n largest indices from a numpy array.\"\"\"\n",
    "    flat = ary.flatten()\n",
    "    indices = np.argpartition(flat, -n)[-n:]\n",
    "    indices = indices[np.argsort(-flat[indices])]\n",
    "    return np.unravel_index(indices, ary.shape)"
   ]
  },
  {
   "cell_type": "code",
   "execution_count": 43,
   "id": "632bff36",
   "metadata": {},
   "outputs": [
    {
     "data": {
      "text/plain": [
       "129.0"
      ]
     },
     "execution_count": 43,
     "metadata": {},
     "output_type": "execute_result"
    }
   ],
   "source": [
    "np.max(new_img)\n"
   ]
  },
  {
   "cell_type": "code",
   "execution_count": 46,
   "id": "ba1718fc",
   "metadata": {},
   "outputs": [],
   "source": [
    "img_blank_larg_ind = largest_indices(img_blank, int(rr/4)) ###################### maybe change 2 * rr\n",
    "mean_x = int(img_blank_larg_ind[1].sum()/rr)\n",
    "mean_y = int(img_blank_larg_ind[0].sum()/rr)\n",
    "img_blank_larg_val = np.mean(img_blank[img_blank_larg_ind])\n"
   ]
  },
  {
   "cell_type": "code",
   "execution_count": 47,
   "id": "73c3b9f4",
   "metadata": {},
   "outputs": [
    {
     "data": {
      "text/plain": [
       "119.28571428571429"
      ]
     },
     "execution_count": 47,
     "metadata": {},
     "output_type": "execute_result"
    }
   ],
   "source": [
    "img_blank_larg_val"
   ]
  },
  {
   "cell_type": "code",
   "execution_count": null,
   "id": "8db59f93",
   "metadata": {},
   "outputs": [],
   "source": []
  }
 ],
 "metadata": {
  "kernelspec": {
   "display_name": "Python 3.9.12 ('base')",
   "language": "python",
   "name": "python3"
  },
  "language_info": {
   "codemirror_mode": {
    "name": "ipython",
    "version": 3
   },
   "file_extension": ".py",
   "mimetype": "text/x-python",
   "name": "python",
   "nbconvert_exporter": "python",
   "pygments_lexer": "ipython3",
   "version": "3.9.12"
  },
  "vscode": {
   "interpreter": {
    "hash": "ad2bdc8ecc057115af97d19610ffacc2b4e99fae6737bb82f5d7fb13d2f2c186"
   }
  }
 },
 "nbformat": 4,
 "nbformat_minor": 5
}
