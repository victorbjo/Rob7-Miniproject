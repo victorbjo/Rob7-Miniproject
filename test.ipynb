{
 "cells": [
  {
   "cell_type": "code",
   "execution_count": 38,
   "metadata": {},
   "outputs": [],
   "source": [
    "import numpy as np \n",
    "import numpy.matlib\n",
    "import pandas as pd\n",
    "import matplotlib.pyplot as plt\n",
    "import time\n",
    "height = 240\n",
    "width = 320\n",
    "x0 = 50\n",
    "y0 = 100\n",
    "r = 30\n"
   ]
  },
  {
   "cell_type": "code",
   "execution_count": 39,
   "metadata": {},
   "outputs": [],
   "source": [
    "row = np.arange(height)\n",
    "column = np.arange(width)   \n",
    "\n",
    "# distance calculation of all matrix elements to the center of the circle\n",
    "diff_row = np.power(row - y0, 2)\n",
    "diff_colum = np.power(width - x0, 2)\n",
    "row_m = np.matlib.repmat(row, width, 1)\n",
    "column_m = np.matlib.repmat(column, height, 1)\n",
    "# column_m = np.transpose(column_m)\n",
    "row_m = np.transpose(row_m)\n",
    "\n",
    "# drawing the circle\n",
    "dist = np.power(diff_row + diff_colum, 0.5)\n",
    "df = pd.DataFrame(dist)\n",
    "mask1 = pd.DataFrame(np.zeros((height, width)))\n",
    "threshold = 2.5\n",
    "mask1[df > (r - threshold)] = 1\n",
    "mask2 = pd.DataFrame(np.zeros((height, width)))\n",
    "mask2[df < (r + threshold)] = 1\n",
    "\n",
    "mask = mask1 + mask2\n",
    "mask[mask != 2] = 0\n",
    "mask[mask == 2] = 1\n",
    "\n",
    "array = pd.DataFrame.to_numpy(mask)"
   ]
  },
  {
   "cell_type": "code",
   "execution_count": 40,
   "metadata": {},
   "outputs": [
    {
     "name": "stdout",
     "output_type": "stream",
     "text": [
      "[[  0   0   0 ...   0   0   0]\n",
      " [  1   1   1 ...   1   1   1]\n",
      " [  2   2   2 ...   2   2   2]\n",
      " ...\n",
      " [237 237 237 ... 237 237 237]\n",
      " [238 238 238 ... 238 238 238]\n",
      " [239 239 239 ... 239 239 239]]\n"
     ]
    }
   ],
   "source": [
    "print(row_m)"
   ]
  },
  {
   "cell_type": "code",
   "execution_count": 41,
   "metadata": {},
   "outputs": [
    {
     "name": "stdout",
     "output_type": "stream",
     "text": [
      "[[  0   1   2 ... 317 318 319]\n",
      " [  0   1   2 ... 317 318 319]\n",
      " [  0   1   2 ... 317 318 319]\n",
      " ...\n",
      " [  0   1   2 ... 317 318 319]\n",
      " [  0   1   2 ... 317 318 319]\n",
      " [  0   1   2 ... 317 318 319]]\n"
     ]
    }
   ],
   "source": [
    "print(column_m)"
   ]
  },
  {
   "cell_type": "code",
   "execution_count": 42,
   "metadata": {},
   "outputs": [
    {
     "name": "stdout",
     "output_type": "stream",
     "text": [
      "(240, 320)\n",
      "(240, 320)\n"
     ]
    }
   ],
   "source": [
    "print(row_m.shape)\n",
    "print(column_m.shape)"
   ]
  },
  {
   "cell_type": "code",
   "execution_count": 43,
   "metadata": {},
   "outputs": [
    {
     "data": {
      "text/plain": [
       "<matplotlib.image.AxesImage at 0x1f2d2a59640>"
      ]
     },
     "execution_count": 43,
     "metadata": {},
     "output_type": "execute_result"
    },
    {
     "data": {
      "image/png": "[encoded data removed]",
      "text/plain": [
       "<Figure size 432x288 with 1 Axes>"
      ]
     },
     "metadata": {
      "needs_background": "light"
     },
     "output_type": "display_data"
    }
   ],
   "source": [
    "plt.imshow(array)"
   ]
  },
  {
   "cell_type": "code",
   "execution_count": null,
   "metadata": {},
   "outputs": [],
   "source": []
  }
 ],
 "metadata": {
  "kernelspec": {
   "display_name": "Python 3.9.12 ('base')",
   "language": "python",
   "name": "python3"
  },
  "language_info": {
   "codemirror_mode": {
    "name": "ipython",
    "version": 3
   },
   "file_extension": ".py",
   "mimetype": "text/x-python",
   "name": "python",
   "nbconvert_exporter": "python",
   "pygments_lexer": "ipython3",
   "version": "3.9.12"
  },
  "orig_nbformat": 4,
  "vscode": {
   "interpreter": {
    "hash": "ad2bdc8ecc057115af97d19610ffacc2b4e99fae6737bb82f5d7fb13d2f2c186"
   }
  }
 },
 "nbformat": 4,
 "nbformat_minor": 2
}
